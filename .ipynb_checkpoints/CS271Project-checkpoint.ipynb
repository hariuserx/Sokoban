{
 "cells": [
  {
   "cell_type": "code",
   "execution_count": 1,
   "metadata": {},
   "outputs": [],
   "source": [
    "import random\n",
    "import math\n",
    "import time"
   ]
  },
  {
   "cell_type": "code",
   "execution_count": 2,
   "metadata": {},
   "outputs": [
    {
     "name": "stdout",
     "output_type": "stream",
     "text": [
      "1638848986.166692\n"
     ]
    }
   ],
   "source": [
    "start = time.time()\n",
    "print(start)"
   ]
  },
  {
   "cell_type": "code",
   "execution_count": 3,
   "metadata": {},
   "outputs": [],
   "source": [
    "myfile = open(\"./benchmarks/sokoban02.txt\")\n",
    "\n",
    "lines = []\n",
    "for eachline in myfile:\n",
    "    lines.append(eachline)\n",
    "myfile.close()"
   ]
  },
  {
   "cell_type": "code",
   "execution_count": 4,
   "metadata": {},
   "outputs": [
    {
     "name": "stdout",
     "output_type": "stream",
     "text": [
      "16 19\n"
     ]
    }
   ],
   "source": [
    "# Input Line0\n",
    "sizeH = int(lines[0].split()[0])\n",
    "sizeV = int(lines[0].split()[1])\n",
    "\n",
    "print(sizeH, sizeV)"
   ]
  },
  {
   "cell_type": "code",
   "execution_count": 5,
   "metadata": {},
   "outputs": [],
   "source": [
    "# Loading data into a set\n",
    "# Arrays are in (y,x), with top row as 1, and leftmost column as 1\n",
    "def createCoordinatesSet(inputArray):\n",
    "    coordinates = set([])\n",
    "    for i,j in zip(inputArray[0::2], inputArray[1::2]):\n",
    "        coordinates.add((int(i), int(j)))\n",
    "    return coordinates"
   ]
  },
  {
   "cell_type": "code",
   "execution_count": 6,
   "metadata": {},
   "outputs": [
    {
     "name": "stdout",
     "output_type": "stream",
     "text": [
      "122\n",
      "{(4, 9), (5, 1), (14, 13), (9, 8), (2, 2), (5, 19), (11, 14), (13, 8), (7, 1), (15, 14), (6, 11), (7, 19), (5, 3), (9, 1), (8, 11), (2, 4), (9, 19), (13, 1), (1, 8), (16, 6), (7, 3), (13, 19), (15, 16), (9, 3), (3, 17), (5, 14), (13, 3), (1, 10), (16, 8), (15, 18), (7, 14), (3, 1), (9, 5), (14, 19), (4, 18), (9, 14), (1, 12), (13, 14), (15, 11), (16, 10), (14, 12), (5, 9), (4, 11), (10, 8), (1, 5), (13, 7), (6, 1), (15, 4), (10, 17), (1, 14), (12, 8), (4, 4), (12, 17), (3, 14), (5, 11), (4, 13), (14, 14), (10, 1), (1, 7), (13, 9), (16, 5), (10, 19), (2, 15), (12, 1), (3, 7), (4, 6), (12, 19), (8, 6), (10, 3), (13, 2), (10, 12), (1, 9), (16, 7), (2, 17), (6, 17), (4, 8), (4, 17), (8, 8), (13, 4), (2, 1), (8, 17), (10, 14), (1, 11), (16, 9), (6, 19), (4, 1), (12, 14), (4, 19), (8, 1), (8, 10), (2, 3), (8, 19), (1, 13), (6, 3), (15, 15), (14, 4), (4, 3), (4, 12), (8, 3), (1, 6), (9, 11), (2, 5), (16, 4), (2, 14), (15, 17), (6, 14), (4, 5), (4, 14), (9, 4), (11, 1), (10, 11), (11, 19), (2, 16), (15, 19), (4, 7), (5, 8), (8, 7), (11, 3), (10, 13), (15, 12), (16, 11), (7, 8)}\n"
     ]
    }
   ],
   "source": [
    "# Input Line1\n",
    "line1Array = lines[1].split()\n",
    "nWallSquares = int(line1Array[0])\n",
    "wallCoordinates = createCoordinatesSet(line1Array[1:])\n",
    "\n",
    "print(nWallSquares)\n",
    "print(wallCoordinates)\n",
    "\n",
    "if (len(wallCoordinates)!=nWallSquares):\n",
    "    print(\"Wall square does not match, check input\")"
   ]
  },
  {
   "cell_type": "code",
   "execution_count": 7,
   "metadata": {},
   "outputs": [
    {
     "name": "stdout",
     "output_type": "stream",
     "text": [
      "18\n",
      "{(4, 10), (5, 15), (6, 5), (12, 10), (14, 10), (9, 15), (11, 8), (12, 6), (12, 12), (11, 15), (13, 6), (13, 15), (14, 9), (7, 15), (7, 5), (11, 4), (11, 11), (3, 11)}\n"
     ]
    }
   ],
   "source": [
    "# Input Line2\n",
    "line2Array = lines[2].split()\n",
    "nBoxes = int(line2Array[0])\n",
    "boxCoordinates = createCoordinatesSet(line2Array[1:])\n",
    "\n",
    "print(nBoxes)\n",
    "print(boxCoordinates)\n",
    "\n",
    "if (len(boxCoordinates)!=nBoxes):\n",
    "    print(\"Boxes does not match, check input\")"
   ]
  },
  {
   "cell_type": "code",
   "execution_count": 8,
   "metadata": {},
   "outputs": [
    {
     "name": "stdout",
     "output_type": "stream",
     "text": [
      "18\n",
      "{(6, 18), (7, 17), (13, 17), (14, 17), (5, 17), (14, 15), (14, 16), (11, 18), (9, 18), (13, 18), (8, 18), (14, 18), (9, 17), (12, 18), (7, 18), (10, 18), (5, 18), (11, 17)}\n"
     ]
    }
   ],
   "source": [
    "# Input Line3\n",
    "line3Array = lines[3].split()\n",
    "nStorageLocations = int(line3Array[0])\n",
    "storageCoordinates = createCoordinatesSet(line3Array[1:])\n",
    "\n",
    "print(nStorageLocations)\n",
    "print(storageCoordinates)\n",
    "\n",
    "if (len(storageCoordinates)!=nStorageLocations):\n",
    "    print(\"Wall square does not match, check input\")"
   ]
  },
  {
   "cell_type": "code",
   "execution_count": 9,
   "metadata": {},
   "outputs": [
    {
     "name": "stdout",
     "output_type": "stream",
     "text": [
      "(3, 15)\n"
     ]
    }
   ],
   "source": [
    "# Input Line4\n",
    "line4Array = lines[4].split()\n",
    "initialLocation = (int(line4Array[0]), int(line4Array[1]))\n",
    "\n",
    "print(initialLocation)"
   ]
  },
  {
   "cell_type": "code",
   "execution_count": 10,
   "metadata": {},
   "outputs": [],
   "source": [
    "#constants\n",
    "actions = ['U', 'D', 'L', 'R']\n",
    "discount = 1.0\n",
    "learningRate = 0.7"
   ]
  },
  {
   "cell_type": "code",
   "execution_count": 11,
   "metadata": {},
   "outputs": [],
   "source": [
    "class SokobanState:\n",
    "    def __init__(self, wallCoordinates, boxCoordinates, storageCoordinates, location):\n",
    "        self.WallCoordinates = frozenset(wallCoordinates.copy())\n",
    "        self.BoxCoordinates = frozenset(boxCoordinates.copy())\n",
    "        self.StorageCoordinates = frozenset(storageCoordinates.copy())\n",
    "        self.Location = location\n",
    "    \n",
    "    def __hash__(self):\n",
    "        return hash((self.BoxCoordinates, self.Location))\n",
    "\n",
    "    def __eq__(self, other):\n",
    "        return (self.BoxCoordinates, self.Location) == (other.BoxCoordinates, other.Location)\n",
    "    \n",
    "    def minStepsBetweenCoordinates(self, coordinates1, coordinates2):\n",
    "        return abs(coordinates1[0]-coordinates2[0]) + abs(coordinates1[1]-coordinates2[1])\n",
    "    \n",
    "    def totalBoxToClosestStorageSteps(self):\n",
    "        result = 0\n",
    "        for box in self.BoxCoordinates.difference(self.StorageCoordinates):\n",
    "            minFound = float(\"inf\")\n",
    "            for storage in self.StorageCoordinates.difference(self.BoxCoordinates):\n",
    "                steps = self.minStepsBetweenCoordinates(box, storage)\n",
    "                if steps < minFound:\n",
    "                    minFound = steps\n",
    "            result += minFound\n",
    "        return result\n",
    "    \n",
    "    def agentToClosestBoxSteps(self):\n",
    "        minFound = float(\"inf\")\n",
    "        for box in self.BoxCoordinates.difference(self.StorageCoordinates):\n",
    "            steps = self.minStepsBetweenCoordinates(self.Location, box)\n",
    "            if steps < minFound:\n",
    "                minFound = steps\n",
    "        return minFound\n",
    "    \n",
    "    def remainingBoxes(self):\n",
    "        count = 0\n",
    "        for box in self.BoxCoordinates.difference(self.StorageCoordinates):\n",
    "            count += 1\n",
    "        return count\n",
    "    \n",
    "    def isTerminal(self):\n",
    "        return all(map(lambda BoxCoor: BoxCoor in self.StorageCoordinates, self.BoxCoordinates))\n",
    "    \n",
    "    def boxStuckAtCorner(self, box):\n",
    "        if box in self.StorageCoordinates:\n",
    "            return False\n",
    "        coordinateDifference = [(-1,-1), (-1,+1), (+1, -1), (+1,+1)]\n",
    "        for difference in coordinateDifference:\n",
    "            if (box[0]+difference[0], box[1]) in self.WallCoordinates and (box[0], box[1]+difference[1]) in self.WallCoordinates:\n",
    "                return True\n",
    "        return False\n",
    "    \n",
    "    def noSolution(self):\n",
    "        return any(map(lambda BoxCoor: self.boxStuckAtCorner(BoxCoor), self.BoxCoordinates))\n",
    "    \n",
    "    def getTargetLocations(self, action):\n",
    "        currentLocation = self.Location\n",
    "        targetLocation = currentLocation\n",
    "        targetNextLocation = (currentLocation[0]+1, currentLocation[1])\n",
    "        if action == 'U':\n",
    "            targetLocation = (currentLocation[0]-1, currentLocation[1])\n",
    "            targetNextLocation = (currentLocation[0]-2, currentLocation[1])\n",
    "        elif action == 'D':\n",
    "            targetLocation = (currentLocation[0]+1, currentLocation[1])\n",
    "            targetNextLocation = (currentLocation[0]+2, currentLocation[1])\n",
    "        elif action == 'L':\n",
    "            targetLocation = (currentLocation[0], currentLocation[1]-1)\n",
    "            targetNextLocation = (currentLocation[0], currentLocation[1]-2)\n",
    "        elif action == 'R':\n",
    "            targetLocation = (currentLocation[0], currentLocation[1]+1)\n",
    "            targetNextLocation = (currentLocation[0], currentLocation[1]+2)\n",
    "        return (targetLocation, targetNextLocation)\n",
    "    \n",
    "    def isInvalidAction(self, action):\n",
    "        targetLocation, targetNextLocation = self.getTargetLocations(action)\n",
    "        return (targetLocation in self.WallCoordinates) or (targetLocation in self.BoxCoordinates and targetNextLocation in self.BoxCoordinates) or (targetLocation in self.BoxCoordinates and targetNextLocation in self.WallCoordinates)\n",
    "    \n",
    "    # Avoid agent stuck at local maximum by staying at the same location, only allow movable actions\n",
    "    def getPossibleActions(self):\n",
    "        return [action for action in actions if not self.isInvalidAction(action)]"
   ]
  },
  {
   "cell_type": "code",
   "execution_count": 12,
   "metadata": {},
   "outputs": [],
   "source": [
    "class Sokoban:\n",
    "    qFunction = {}\n",
    "    \n",
    "    def __init__(self, sizeH, sizeV, wallCoordinates, boxCoordinates, storageCoordinates, location):\n",
    "        self.SizeH = sizeH\n",
    "        self.SizeV = sizeV\n",
    "        self.currentState = SokobanState(wallCoordinates.copy(), boxCoordinates.copy(), storageCoordinates.copy(), location)\n",
    "\n",
    "    def resetQFunction(self):\n",
    "        self.__class__.qFunction.clear()\n",
    "        \n",
    "    def getQValue(self, state, action):\n",
    "        if state.isTerminal():\n",
    "            return 10000000\n",
    "        if state.noSolution():\n",
    "            return -10000000\n",
    "        return self.__class__.qFunction.get((state, action), 0)\n",
    "    \n",
    "    def setQValue(self, state, action, newValue):\n",
    "        self.__class__.qFunction[(state, action)] = newValue\n",
    "    \n",
    "    def getCurrentStateActions(self):\n",
    "        return self.currentState.getPossibleActions()\n",
    "    \n",
    "    def getMaxQValue(self, state, possibleActions):\n",
    "        return max(map(lambda action: self.getQValue(state, action), possibleActions))\n",
    "    \n",
    "    def getBestAction(self, state):\n",
    "        possibleActions = state.getPossibleActions()\n",
    "        maxQValue = self.getMaxQValue(state, possibleActions)\n",
    "        for action in possibleActions:\n",
    "            if self.getQValue(state, action) == maxQValue:\n",
    "                return action\n",
    "    \n",
    "    # create S'\n",
    "    def createStateForAction(self, state, action):\n",
    "        targetLocation, targetNextLocation = state.getTargetLocations(action)\n",
    "        newLocation = targetLocation\n",
    "        # map frozenset back to a mutable set\n",
    "        newBoxCoordinates = set(state.BoxCoordinates.copy())\n",
    "        if targetLocation in newBoxCoordinates:\n",
    "            newBoxCoordinates.remove(targetLocation)\n",
    "            newBoxCoordinates.add(targetNextLocation)\n",
    "        return SokobanState(state.WallCoordinates, newBoxCoordinates, state.StorageCoordinates, newLocation)\n",
    "        \n",
    "    # Take action A, observe R and S'\n",
    "    # Update Q value\n",
    "    # Update S to S'\n",
    "    def takeAction(self, action):\n",
    "        newState = self.createStateForAction(self.currentState, action)\n",
    "        \n",
    "        # Reward R\n",
    "        R = -1\n",
    "        # Reward for moving box closer\n",
    "        stepDifference = newState.totalBoxToClosestStorageSteps() - self.currentState.totalBoxToClosestStorageSteps()\n",
    "        if stepDifference < 0:\n",
    "            R += 3\n",
    "        elif stepDifference == 0:\n",
    "            R += -3\n",
    "        \n",
    "        # Reward for agent getting closer to a box\n",
    "        distanceToClosestBoxDifference = newState.agentToClosestBoxSteps() - self.currentState.agentToClosestBoxSteps()\n",
    "        if distanceToClosestBoxDifference < 0:\n",
    "            R += 1\n",
    "        elif distanceToClosestBoxDifference > 0:\n",
    "            R += -1\n",
    "        \n",
    "        # Reward for moving box to Storage\n",
    "        remainingBoxesDifference = newState.remainingBoxes() - self.currentState.remainingBoxes()\n",
    "        if remainingBoxesDifference < 0:\n",
    "            R += 15\n",
    "        elif remainingBoxesDifference > 0:\n",
    "            R += -10\n",
    "        \n",
    "        currentQValue = self.getQValue(self.currentState, action)\n",
    "        newQValue = currentQValue + learningRate*(R+discount*self.getMaxQValue(newState, newState.getPossibleActions())-currentQValue)\n",
    "        #newQValue = currentQValue + learningRate*(R+discount*self.getQValue(newState, action)-currentQValue)\n",
    "        self.setQValue(self.currentState, action, newQValue)\n",
    "        self.currentState = newState\n",
    "    \n",
    "    def getPath(self, maxSteps, startState):\n",
    "        path = ''\n",
    "        prevState = startState\n",
    "        tmpState = startState\n",
    "        for i in range(maxSteps):\n",
    "            if tmpState.isTerminal():\n",
    "                print(\"Reached terminal state\")\n",
    "                break\n",
    "            \n",
    "            # May need this part to avoid stuck at local maximum\n",
    "#             bestNextState = None\n",
    "#             bestAction = None\n",
    "#             bestQ = -float(\"inf\")\n",
    "#             for action in tmpState.getPossibleActions():\n",
    "#                 checkState = self.createStateForAction(tmpState, action)\n",
    "#                 qValue = self.getQValue(tmpState, action)\n",
    "#                 if qValue >= bestQ and checkState != prevState:\n",
    "#                     bestState = checkState\n",
    "#                     bestAction = action\n",
    "#                     bestQ = qValue\n",
    "#             #print(tmpState.getPossibleActions())\n",
    "#             #print(list(map(lambda action: self.getQValue(tmpState, action), tmpState.getPossibleActions())))\n",
    "#             #print(bestAction)\n",
    "#             #print(self.getBestAction(tmpState))\n",
    "#             #print(tmpState.Location)\n",
    "#             path += bestAction\n",
    "#             prevState = tmpState\n",
    "#             tmpState = bestState\n",
    "                    \n",
    "            bestAction = self.getBestAction(tmpState)\n",
    "            newState = self.createStateForAction(tmpState, bestAction)\n",
    "            path += bestAction\n",
    "            prevState = tmpState\n",
    "            tmpState = newState\n",
    "           \n",
    "        return path"
   ]
  },
  {
   "cell_type": "code",
   "execution_count": 13,
   "metadata": {},
   "outputs": [],
   "source": [
    "sokoban = Sokoban(sizeH, sizeV, wallCoordinates, boxCoordinates, storageCoordinates, initialLocation)\n",
    "sokoban.resetQFunction()"
   ]
  },
  {
   "cell_type": "code",
   "execution_count": 14,
   "metadata": {},
   "outputs": [],
   "source": [
    "random.seed(0)\n",
    "def createRandomStartLocation():\n",
    "    randomLocation = (1,1)\n",
    "    while randomLocation in wallCoordinates or randomLocation in boxCoordinates or randomLocation in storageCoordinates:\n",
    "        randomLocation = (random.randint(1, sizeH), random.randint(1, sizeV))\n",
    "    return randomLocation"
   ]
  },
  {
   "cell_type": "code",
   "execution_count": 15,
   "metadata": {},
   "outputs": [],
   "source": [
    "def createAndRunEpisode(startLocation, maxSteps, epsilon):\n",
    "    # Return True if this episode reached terminal state\n",
    "    sokoban = Sokoban(sizeH, sizeV, wallCoordinates, boxCoordinates, storageCoordinates, startLocation)\n",
    "    \n",
    "    path = \"\"\n",
    "    for j in range(maxSteps):\n",
    "        if random.random() < epsilon:\n",
    "            action = random.choice(sokoban.currentState.getPossibleActions())\n",
    "        else:\n",
    "            action = sokoban.getBestAction(sokoban.currentState)\n",
    "        sokoban.takeAction(action)\n",
    "        path += action\n",
    "        if sokoban.currentState.isTerminal():\n",
    "            print(\"Stpes used to reach terminal: \", j+1)\n",
    "            print(\"@@@@@: \", path)\n",
    "            return True\n",
    "        if sokoban.currentState.noSolution():\n",
    "            #print(\"%%%%%%: \", path)\n",
    "            return False\n",
    "    #print(\"#####: \", path)\n",
    "    return False"
   ]
  },
  {
   "cell_type": "code",
   "execution_count": 16,
   "metadata": {
    "scrolled": true
   },
   "outputs": [
    {
     "name": "stdout",
     "output_type": "stream",
     "text": [
      "Total episodes:  2188800\n",
      "Total Completed Episodes:  0\n",
      "Episodes reached terminal state in the last 1000 Episodes:  0\n",
      "Time elapsed:  0.10367178916931152\n"
     ]
    },
    {
     "ename": "KeyboardInterrupt",
     "evalue": "",
     "output_type": "error",
     "traceback": [
      "\u001b[0;31m---------------------------------------------------------------------------\u001b[0m",
      "\u001b[0;31mKeyboardInterrupt\u001b[0m                         Traceback (most recent call last)",
      "\u001b[0;32m<ipython-input-16-bb1811442b64>\u001b[0m in \u001b[0;36m<module>\u001b[0;34m\u001b[0m\n\u001b[1;32m      6\u001b[0m \u001b[0;31m# Q-learning\u001b[0m\u001b[0;34m\u001b[0m\u001b[0;34m\u001b[0m\u001b[0m\n\u001b[1;32m      7\u001b[0m \u001b[0;32mfor\u001b[0m \u001b[0mi\u001b[0m \u001b[0;32min\u001b[0m \u001b[0mrange\u001b[0m\u001b[0;34m(\u001b[0m\u001b[0mepisodes\u001b[0m\u001b[0;34m)\u001b[0m\u001b[0;34m:\u001b[0m\u001b[0;34m\u001b[0m\u001b[0;34m\u001b[0m\u001b[0m\n\u001b[0;32m----> 8\u001b[0;31m     \u001b[0mepisodeReachedTerminal\u001b[0m \u001b[0;34m=\u001b[0m \u001b[0mcreateAndRunEpisode\u001b[0m\u001b[0;34m(\u001b[0m\u001b[0minitialLocation\u001b[0m\u001b[0;34m,\u001b[0m \u001b[0mmaxSteps\u001b[0m\u001b[0;34m,\u001b[0m \u001b[0mepsilon\u001b[0m\u001b[0;34m)\u001b[0m\u001b[0;34m\u001b[0m\u001b[0;34m\u001b[0m\u001b[0m\n\u001b[0m\u001b[1;32m      9\u001b[0m     \u001b[0;32mif\u001b[0m \u001b[0mepisodeReachedTerminal\u001b[0m\u001b[0;34m:\u001b[0m\u001b[0;34m\u001b[0m\u001b[0;34m\u001b[0m\u001b[0m\n\u001b[1;32m     10\u001b[0m         \u001b[0mterminalCount\u001b[0m \u001b[0;34m+=\u001b[0m \u001b[0;36m1\u001b[0m\u001b[0;34m\u001b[0m\u001b[0;34m\u001b[0m\u001b[0m\n",
      "\u001b[0;32m<ipython-input-15-7daa25983471>\u001b[0m in \u001b[0;36mcreateAndRunEpisode\u001b[0;34m(startLocation, maxSteps, epsilon)\u001b[0m\n\u001b[1;32m      8\u001b[0m             \u001b[0maction\u001b[0m \u001b[0;34m=\u001b[0m \u001b[0mrandom\u001b[0m\u001b[0;34m.\u001b[0m\u001b[0mchoice\u001b[0m\u001b[0;34m(\u001b[0m\u001b[0msokoban\u001b[0m\u001b[0;34m.\u001b[0m\u001b[0mcurrentState\u001b[0m\u001b[0;34m.\u001b[0m\u001b[0mgetPossibleActions\u001b[0m\u001b[0;34m(\u001b[0m\u001b[0;34m)\u001b[0m\u001b[0;34m)\u001b[0m\u001b[0;34m\u001b[0m\u001b[0;34m\u001b[0m\u001b[0m\n\u001b[1;32m      9\u001b[0m         \u001b[0;32melse\u001b[0m\u001b[0;34m:\u001b[0m\u001b[0;34m\u001b[0m\u001b[0;34m\u001b[0m\u001b[0m\n\u001b[0;32m---> 10\u001b[0;31m             \u001b[0maction\u001b[0m \u001b[0;34m=\u001b[0m \u001b[0msokoban\u001b[0m\u001b[0;34m.\u001b[0m\u001b[0mgetBestAction\u001b[0m\u001b[0;34m(\u001b[0m\u001b[0msokoban\u001b[0m\u001b[0;34m.\u001b[0m\u001b[0mcurrentState\u001b[0m\u001b[0;34m)\u001b[0m\u001b[0;34m\u001b[0m\u001b[0;34m\u001b[0m\u001b[0m\n\u001b[0m\u001b[1;32m     11\u001b[0m         \u001b[0msokoban\u001b[0m\u001b[0;34m.\u001b[0m\u001b[0mtakeAction\u001b[0m\u001b[0;34m(\u001b[0m\u001b[0maction\u001b[0m\u001b[0;34m)\u001b[0m\u001b[0;34m\u001b[0m\u001b[0;34m\u001b[0m\u001b[0m\n\u001b[1;32m     12\u001b[0m         \u001b[0mpath\u001b[0m \u001b[0;34m+=\u001b[0m \u001b[0maction\u001b[0m\u001b[0;34m\u001b[0m\u001b[0;34m\u001b[0m\u001b[0m\n",
      "\u001b[0;32m<ipython-input-12-913f20a83552>\u001b[0m in \u001b[0;36mgetBestAction\u001b[0;34m(self, state)\u001b[0m\n\u001b[1;32m     28\u001b[0m     \u001b[0;32mdef\u001b[0m \u001b[0mgetBestAction\u001b[0m\u001b[0;34m(\u001b[0m\u001b[0mself\u001b[0m\u001b[0;34m,\u001b[0m \u001b[0mstate\u001b[0m\u001b[0;34m)\u001b[0m\u001b[0;34m:\u001b[0m\u001b[0;34m\u001b[0m\u001b[0;34m\u001b[0m\u001b[0m\n\u001b[1;32m     29\u001b[0m         \u001b[0mpossibleActions\u001b[0m \u001b[0;34m=\u001b[0m \u001b[0mstate\u001b[0m\u001b[0;34m.\u001b[0m\u001b[0mgetPossibleActions\u001b[0m\u001b[0;34m(\u001b[0m\u001b[0;34m)\u001b[0m\u001b[0;34m\u001b[0m\u001b[0;34m\u001b[0m\u001b[0m\n\u001b[0;32m---> 30\u001b[0;31m         \u001b[0mmaxQValue\u001b[0m \u001b[0;34m=\u001b[0m \u001b[0mself\u001b[0m\u001b[0;34m.\u001b[0m\u001b[0mgetMaxQValue\u001b[0m\u001b[0;34m(\u001b[0m\u001b[0mstate\u001b[0m\u001b[0;34m,\u001b[0m \u001b[0mpossibleActions\u001b[0m\u001b[0;34m)\u001b[0m\u001b[0;34m\u001b[0m\u001b[0;34m\u001b[0m\u001b[0m\n\u001b[0m\u001b[1;32m     31\u001b[0m         \u001b[0;32mfor\u001b[0m \u001b[0maction\u001b[0m \u001b[0;32min\u001b[0m \u001b[0mpossibleActions\u001b[0m\u001b[0;34m:\u001b[0m\u001b[0;34m\u001b[0m\u001b[0;34m\u001b[0m\u001b[0m\n\u001b[1;32m     32\u001b[0m             \u001b[0;32mif\u001b[0m \u001b[0mself\u001b[0m\u001b[0;34m.\u001b[0m\u001b[0mgetQValue\u001b[0m\u001b[0;34m(\u001b[0m\u001b[0mstate\u001b[0m\u001b[0;34m,\u001b[0m \u001b[0maction\u001b[0m\u001b[0;34m)\u001b[0m \u001b[0;34m==\u001b[0m \u001b[0mmaxQValue\u001b[0m\u001b[0;34m:\u001b[0m\u001b[0;34m\u001b[0m\u001b[0;34m\u001b[0m\u001b[0m\n",
      "\u001b[0;32m<ipython-input-12-913f20a83552>\u001b[0m in \u001b[0;36mgetMaxQValue\u001b[0;34m(self, state, possibleActions)\u001b[0m\n\u001b[1;32m     24\u001b[0m \u001b[0;34m\u001b[0m\u001b[0m\n\u001b[1;32m     25\u001b[0m     \u001b[0;32mdef\u001b[0m \u001b[0mgetMaxQValue\u001b[0m\u001b[0;34m(\u001b[0m\u001b[0mself\u001b[0m\u001b[0;34m,\u001b[0m \u001b[0mstate\u001b[0m\u001b[0;34m,\u001b[0m \u001b[0mpossibleActions\u001b[0m\u001b[0;34m)\u001b[0m\u001b[0;34m:\u001b[0m\u001b[0;34m\u001b[0m\u001b[0;34m\u001b[0m\u001b[0m\n\u001b[0;32m---> 26\u001b[0;31m         \u001b[0;32mreturn\u001b[0m \u001b[0mmax\u001b[0m\u001b[0;34m(\u001b[0m\u001b[0mmap\u001b[0m\u001b[0;34m(\u001b[0m\u001b[0;32mlambda\u001b[0m \u001b[0maction\u001b[0m\u001b[0;34m:\u001b[0m \u001b[0mself\u001b[0m\u001b[0;34m.\u001b[0m\u001b[0mgetQValue\u001b[0m\u001b[0;34m(\u001b[0m\u001b[0mstate\u001b[0m\u001b[0;34m,\u001b[0m \u001b[0maction\u001b[0m\u001b[0;34m)\u001b[0m\u001b[0;34m,\u001b[0m \u001b[0mpossibleActions\u001b[0m\u001b[0;34m)\u001b[0m\u001b[0;34m)\u001b[0m\u001b[0;34m\u001b[0m\u001b[0;34m\u001b[0m\u001b[0m\n\u001b[0m\u001b[1;32m     27\u001b[0m \u001b[0;34m\u001b[0m\u001b[0m\n\u001b[1;32m     28\u001b[0m     \u001b[0;32mdef\u001b[0m \u001b[0mgetBestAction\u001b[0m\u001b[0;34m(\u001b[0m\u001b[0mself\u001b[0m\u001b[0;34m,\u001b[0m \u001b[0mstate\u001b[0m\u001b[0;34m)\u001b[0m\u001b[0;34m:\u001b[0m\u001b[0;34m\u001b[0m\u001b[0;34m\u001b[0m\u001b[0m\n",
      "\u001b[0;32m<ipython-input-12-913f20a83552>\u001b[0m in \u001b[0;36m<lambda>\u001b[0;34m(action)\u001b[0m\n\u001b[1;32m     24\u001b[0m \u001b[0;34m\u001b[0m\u001b[0m\n\u001b[1;32m     25\u001b[0m     \u001b[0;32mdef\u001b[0m \u001b[0mgetMaxQValue\u001b[0m\u001b[0;34m(\u001b[0m\u001b[0mself\u001b[0m\u001b[0;34m,\u001b[0m \u001b[0mstate\u001b[0m\u001b[0;34m,\u001b[0m \u001b[0mpossibleActions\u001b[0m\u001b[0;34m)\u001b[0m\u001b[0;34m:\u001b[0m\u001b[0;34m\u001b[0m\u001b[0;34m\u001b[0m\u001b[0m\n\u001b[0;32m---> 26\u001b[0;31m         \u001b[0;32mreturn\u001b[0m \u001b[0mmax\u001b[0m\u001b[0;34m(\u001b[0m\u001b[0mmap\u001b[0m\u001b[0;34m(\u001b[0m\u001b[0;32mlambda\u001b[0m \u001b[0maction\u001b[0m\u001b[0;34m:\u001b[0m \u001b[0mself\u001b[0m\u001b[0;34m.\u001b[0m\u001b[0mgetQValue\u001b[0m\u001b[0;34m(\u001b[0m\u001b[0mstate\u001b[0m\u001b[0;34m,\u001b[0m \u001b[0maction\u001b[0m\u001b[0;34m)\u001b[0m\u001b[0;34m,\u001b[0m \u001b[0mpossibleActions\u001b[0m\u001b[0;34m)\u001b[0m\u001b[0;34m)\u001b[0m\u001b[0;34m\u001b[0m\u001b[0;34m\u001b[0m\u001b[0m\n\u001b[0m\u001b[1;32m     27\u001b[0m \u001b[0;34m\u001b[0m\u001b[0m\n\u001b[1;32m     28\u001b[0m     \u001b[0;32mdef\u001b[0m \u001b[0mgetBestAction\u001b[0m\u001b[0;34m(\u001b[0m\u001b[0mself\u001b[0m\u001b[0;34m,\u001b[0m \u001b[0mstate\u001b[0m\u001b[0;34m)\u001b[0m\u001b[0;34m:\u001b[0m\u001b[0;34m\u001b[0m\u001b[0;34m\u001b[0m\u001b[0m\n",
      "\u001b[0;32m<ipython-input-12-913f20a83552>\u001b[0m in \u001b[0;36mgetQValue\u001b[0;34m(self, state, action)\u001b[0m\n\u001b[1;32m     13\u001b[0m         \u001b[0;32mif\u001b[0m \u001b[0mstate\u001b[0m\u001b[0;34m.\u001b[0m\u001b[0misTerminal\u001b[0m\u001b[0;34m(\u001b[0m\u001b[0;34m)\u001b[0m\u001b[0;34m:\u001b[0m\u001b[0;34m\u001b[0m\u001b[0;34m\u001b[0m\u001b[0m\n\u001b[1;32m     14\u001b[0m             \u001b[0;32mreturn\u001b[0m \u001b[0;36m10000000\u001b[0m\u001b[0;34m\u001b[0m\u001b[0;34m\u001b[0m\u001b[0m\n\u001b[0;32m---> 15\u001b[0;31m         \u001b[0;32mif\u001b[0m \u001b[0mstate\u001b[0m\u001b[0;34m.\u001b[0m\u001b[0mnoSolution\u001b[0m\u001b[0;34m(\u001b[0m\u001b[0;34m)\u001b[0m\u001b[0;34m:\u001b[0m\u001b[0;34m\u001b[0m\u001b[0;34m\u001b[0m\u001b[0m\n\u001b[0m\u001b[1;32m     16\u001b[0m             \u001b[0;32mreturn\u001b[0m \u001b[0;34m-\u001b[0m\u001b[0;36m10000000\u001b[0m\u001b[0;34m\u001b[0m\u001b[0;34m\u001b[0m\u001b[0m\n\u001b[1;32m     17\u001b[0m         \u001b[0;32mreturn\u001b[0m \u001b[0mself\u001b[0m\u001b[0;34m.\u001b[0m\u001b[0m__class__\u001b[0m\u001b[0;34m.\u001b[0m\u001b[0mqFunction\u001b[0m\u001b[0;34m.\u001b[0m\u001b[0mget\u001b[0m\u001b[0;34m(\u001b[0m\u001b[0;34m(\u001b[0m\u001b[0mstate\u001b[0m\u001b[0;34m,\u001b[0m \u001b[0maction\u001b[0m\u001b[0;34m)\u001b[0m\u001b[0;34m,\u001b[0m \u001b[0;36m0\u001b[0m\u001b[0;34m)\u001b[0m\u001b[0;34m\u001b[0m\u001b[0;34m\u001b[0m\u001b[0m\n",
      "\u001b[0;32m<ipython-input-11-b70688fb7c5f>\u001b[0m in \u001b[0;36mnoSolution\u001b[0;34m(self)\u001b[0m\n\u001b[1;32m     53\u001b[0m \u001b[0;34m\u001b[0m\u001b[0m\n\u001b[1;32m     54\u001b[0m     \u001b[0;32mdef\u001b[0m \u001b[0mnoSolution\u001b[0m\u001b[0;34m(\u001b[0m\u001b[0mself\u001b[0m\u001b[0;34m)\u001b[0m\u001b[0;34m:\u001b[0m\u001b[0;34m\u001b[0m\u001b[0;34m\u001b[0m\u001b[0m\n\u001b[0;32m---> 55\u001b[0;31m         \u001b[0;32mreturn\u001b[0m \u001b[0many\u001b[0m\u001b[0;34m(\u001b[0m\u001b[0mmap\u001b[0m\u001b[0;34m(\u001b[0m\u001b[0;32mlambda\u001b[0m \u001b[0mBoxCoor\u001b[0m\u001b[0;34m:\u001b[0m \u001b[0mself\u001b[0m\u001b[0;34m.\u001b[0m\u001b[0mboxStuckAtCorner\u001b[0m\u001b[0;34m(\u001b[0m\u001b[0mBoxCoor\u001b[0m\u001b[0;34m)\u001b[0m\u001b[0;34m,\u001b[0m \u001b[0mself\u001b[0m\u001b[0;34m.\u001b[0m\u001b[0mBoxCoordinates\u001b[0m\u001b[0;34m)\u001b[0m\u001b[0;34m)\u001b[0m\u001b[0;34m\u001b[0m\u001b[0;34m\u001b[0m\u001b[0m\n\u001b[0m\u001b[1;32m     56\u001b[0m \u001b[0;34m\u001b[0m\u001b[0m\n\u001b[1;32m     57\u001b[0m     \u001b[0;32mdef\u001b[0m \u001b[0mgetTargetLocations\u001b[0m\u001b[0;34m(\u001b[0m\u001b[0mself\u001b[0m\u001b[0;34m,\u001b[0m \u001b[0maction\u001b[0m\u001b[0;34m)\u001b[0m\u001b[0;34m:\u001b[0m\u001b[0;34m\u001b[0m\u001b[0;34m\u001b[0m\u001b[0m\n",
      "\u001b[0;32m<ipython-input-11-b70688fb7c5f>\u001b[0m in \u001b[0;36m<lambda>\u001b[0;34m(BoxCoor)\u001b[0m\n\u001b[1;32m     53\u001b[0m \u001b[0;34m\u001b[0m\u001b[0m\n\u001b[1;32m     54\u001b[0m     \u001b[0;32mdef\u001b[0m \u001b[0mnoSolution\u001b[0m\u001b[0;34m(\u001b[0m\u001b[0mself\u001b[0m\u001b[0;34m)\u001b[0m\u001b[0;34m:\u001b[0m\u001b[0;34m\u001b[0m\u001b[0;34m\u001b[0m\u001b[0m\n\u001b[0;32m---> 55\u001b[0;31m         \u001b[0;32mreturn\u001b[0m \u001b[0many\u001b[0m\u001b[0;34m(\u001b[0m\u001b[0mmap\u001b[0m\u001b[0;34m(\u001b[0m\u001b[0;32mlambda\u001b[0m \u001b[0mBoxCoor\u001b[0m\u001b[0;34m:\u001b[0m \u001b[0mself\u001b[0m\u001b[0;34m.\u001b[0m\u001b[0mboxStuckAtCorner\u001b[0m\u001b[0;34m(\u001b[0m\u001b[0mBoxCoor\u001b[0m\u001b[0;34m)\u001b[0m\u001b[0;34m,\u001b[0m \u001b[0mself\u001b[0m\u001b[0;34m.\u001b[0m\u001b[0mBoxCoordinates\u001b[0m\u001b[0;34m)\u001b[0m\u001b[0;34m)\u001b[0m\u001b[0;34m\u001b[0m\u001b[0;34m\u001b[0m\u001b[0m\n\u001b[0m\u001b[1;32m     56\u001b[0m \u001b[0;34m\u001b[0m\u001b[0m\n\u001b[1;32m     57\u001b[0m     \u001b[0;32mdef\u001b[0m \u001b[0mgetTargetLocations\u001b[0m\u001b[0;34m(\u001b[0m\u001b[0mself\u001b[0m\u001b[0;34m,\u001b[0m \u001b[0maction\u001b[0m\u001b[0;34m)\u001b[0m\u001b[0;34m:\u001b[0m\u001b[0;34m\u001b[0m\u001b[0;34m\u001b[0m\u001b[0m\n",
      "\u001b[0;31mKeyboardInterrupt\u001b[0m: "
     ]
    }
   ],
   "source": [
    "episodes = sizeH*sizeV*nBoxes*4*100\n",
    "maxSteps = sizeH*sizeV*nBoxes*2\n",
    "terminalCount = 0\n",
    "epsilon = 0.2\n",
    "print('Total episodes: ', episodes)\n",
    "# Q-learning\n",
    "for i in range(episodes):\n",
    "    episodeReachedTerminal = createAndRunEpisode(initialLocation, maxSteps, epsilon)\n",
    "    if episodeReachedTerminal:\n",
    "        terminalCount += 1\n",
    "        break\n",
    "    if i%1000 == 0:\n",
    "        print(\"Total Completed Episodes: \", i)\n",
    "        print(\"Episodes reached terminal state in the last 1000 Episodes: \", terminalCount)\n",
    "        tmpSokoban = Sokoban(sizeH, sizeV, wallCoordinates, boxCoordinates, storageCoordinates, initialLocation)\n",
    "        #currentBestPath = tmpSokoban.getPath(maxSteps, tmpSokoban.currentState)\n",
    "        #print(len(currentBestPath), \" \", currentBestPath)\n",
    "        # if we have a good enough policy, we should have a high chance of reaching the terminal state, so we can terminate\n",
    "        if terminalCount > 500:\n",
    "            print(\"Early terminate\")\n",
    "            break\n",
    "        timeElapsed = time.time() - start\n",
    "        print('Time elapsed: ', timeElapsed)\n",
    "        if timeElapsed > 3600:\n",
    "            print('Timeout')\n",
    "            break\n",
    "        terminalCount = 0"
   ]
  },
  {
   "cell_type": "code",
   "execution_count": null,
   "metadata": {
    "scrolled": false
   },
   "outputs": [],
   "source": [
    "sokoban = Sokoban(sizeH, sizeV, wallCoordinates, boxCoordinates, storageCoordinates, initialLocation)\n",
    "#path = sokoban.getPath(maxSteps, sokoban.currentState)\n",
    "#print(len(path), \" \", path)"
   ]
  },
  {
   "cell_type": "code",
   "execution_count": null,
   "metadata": {
    "scrolled": false
   },
   "outputs": [],
   "source": [
    "end = time.time()\n",
    "print('Execution time: ', end - start)"
   ]
  },
  {
   "cell_type": "code",
   "execution_count": null,
   "metadata": {},
   "outputs": [],
   "source": []
  }
 ],
 "metadata": {
  "kernelspec": {
   "display_name": "Python 3",
   "language": "python",
   "name": "python3"
  },
  "language_info": {
   "codemirror_mode": {
    "name": "ipython",
    "version": 3
   },
   "file_extension": ".py",
   "mimetype": "text/x-python",
   "name": "python",
   "nbconvert_exporter": "python",
   "pygments_lexer": "ipython3",
   "version": "3.9.7"
  }
 },
 "nbformat": 4,
 "nbformat_minor": 2
}
